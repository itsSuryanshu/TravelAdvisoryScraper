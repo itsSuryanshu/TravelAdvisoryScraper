{
 "cells": [
  {
   "cell_type": "code",
   "execution_count": 72,
   "metadata": {},
   "outputs": [],
   "source": [
    "from selenium import webdriver\n",
    "from selenium.webdriver.common.by import By\n",
    "import numpy as np\n",
    "import pandas as pd\n",
    "import undetected_chromedriver as uc\n",
    "import os"
   ]
  },
  {
   "cell_type": "code",
   "execution_count": 46,
   "metadata": {},
   "outputs": [],
   "source": [
    "browser = webdriver.Chrome()\n",
    "browser.get(\"https://travel.gc.ca/travelling/advisories\")"
   ]
  },
  {
   "cell_type": "code",
   "execution_count": 59,
   "metadata": {},
   "outputs": [],
   "source": [
    "table = browser.find_element(By.CSS_SELECTOR, \"#reportlist\")"
   ]
  },
  {
   "cell_type": "code",
   "execution_count": 116,
   "metadata": {},
   "outputs": [],
   "source": [
    "countries = []\n",
    "n = len(table.find_elements(By.TAG_NAME, \"tr\"))\n",
    "x = 1\n",
    "while (x < n):\n",
    "    countries.extend(table.find_elements(By.CSS_SELECTOR, f\"#reportlist > tbody:nth-child(2) > tr:nth-child({x})\"))\n",
    "    x += 1"
   ]
  },
  {
   "cell_type": "code",
   "execution_count": 117,
   "metadata": {},
   "outputs": [
    {
     "data": {
      "text/plain": [
       "230"
      ]
     },
     "execution_count": 117,
     "metadata": {},
     "output_type": "execute_result"
    }
   ],
   "source": [
    "len(countries)"
   ]
  },
  {
   "cell_type": "markdown",
   "metadata": {},
   "source": [
    "## Caution Classes\n",
    "1. normal-precautions\n",
    "2. increased-caution\n",
    "3. reconsider-travel\n",
    "4. datatable-do-not-travel"
   ]
  },
  {
   "cell_type": "code",
   "execution_count": 118,
   "metadata": {},
   "outputs": [
    {
     "name": "stdout",
     "output_type": "stream",
     "text": [
      "Myanmar do-not-travel Avoid all travel 2025-06-20 07:12:54\n"
     ]
    }
   ],
   "source": [
    "for country in countries[6:7]:\n",
    "    elements = country.find_elements(By.TAG_NAME, \"td\")\n",
    "    #element_img = elements[0].find_element(By.TAG_NAME, \"img\")\n",
    "    element_name = elements[0].find_element(By.TAG_NAME, \"a\")\n",
    "    element_desc = elements[1].find_element(By.TAG_NAME, \"div\")\n",
    "    element_updated = elements[2]\n",
    "print(element_name.text, element_desc.get_attribute(\"class\"), element_desc.text, element_updated.text)"
   ]
  },
  {
   "cell_type": "code",
   "execution_count": 119,
   "metadata": {},
   "outputs": [],
   "source": [
    "# create an empty dataFrame with only the column names\n",
    "df = pd.DataFrame(columns=[\"Country\", \"Risk Level\", \"Description\", \"Last Updated\"])"
   ]
  },
  {
   "cell_type": "code",
   "execution_count": 120,
   "metadata": {},
   "outputs": [],
   "source": [
    "# create a csv file for the data\n",
    "df.to_csv(\"data.csv\", index=False)"
   ]
  },
  {
   "cell_type": "code",
   "execution_count": 121,
   "metadata": {},
   "outputs": [],
   "source": [
    "# function for adding each country's data to the csv file as program iterates through 'countries' list\n",
    "def addNewEntry(countries):\n",
    "    # recursion statement\n",
    "    if not countries:\n",
    "        return False\n",
    "\n",
    "    # get all the data we need out of the web element\n",
    "    country_elements = countries[0].find_elements(By.TAG_NAME, \"td\")\n",
    "    name = country_elements[0].find_element(By.TAG_NAME, \"a\").text\n",
    "    temp = country_elements[1].find_element(By.TAG_NAME, \"div\")\n",
    "    risk = temp.get_attribute(\"class\")\n",
    "    description = temp.text\n",
    "    updated = country_elements[2].text\n",
    "\n",
    "    # create a new row of data to be added\n",
    "    new_row = {\"Country\": name,\n",
    "               \"Risk Level\": risk,\n",
    "               \"Description\": description,\n",
    "               \"Last Updated\": updated}\n",
    "    \n",
    "    # add the row to the DataFrame\n",
    "    pd.DataFrame([new_row]).to_csv(\"data.csv\", mode=\"a\", header=False, index=False)\n",
    "\n",
    "    # recursively run again with the next country in list\n",
    "    addNewEntry(countries[1:])"
   ]
  },
  {
   "cell_type": "code",
   "execution_count": 122,
   "metadata": {},
   "outputs": [],
   "source": [
    "# add data from countries list\n",
    "addNewEntry(countries)"
   ]
  },
  {
   "cell_type": "code",
   "execution_count": null,
   "metadata": {},
   "outputs": [],
   "source": []
  }
 ],
 "metadata": {
  "kernelspec": {
   "display_name": "Python 3",
   "language": "python",
   "name": "python3"
  },
  "language_info": {
   "codemirror_mode": {
    "name": "ipython",
    "version": 3
   },
   "file_extension": ".py",
   "mimetype": "text/x-python",
   "name": "python",
   "nbconvert_exporter": "python",
   "pygments_lexer": "ipython3",
   "version": "3.12.0"
  }
 },
 "nbformat": 4,
 "nbformat_minor": 2
}
